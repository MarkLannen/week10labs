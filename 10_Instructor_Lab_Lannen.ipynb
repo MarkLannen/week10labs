{
 "cells": [
  {
   "cell_type": "markdown",
   "id": "38345199-becd-4fd3-99cf-e8ecc5ce41cf",
   "metadata": {},
   "source": [
    "# 10 Instructor Led Lab\n",
    "Author: Mark Lannen  \n",
    "Course: BGEN632 Grad. Intro. to Python  \n",
    "Term: Spring 2025"
   ]
  },
  {
   "cell_type": "markdown",
   "id": "9be5c77e-ef5f-48ea-bf47-db495646c546",
   "metadata": {},
   "source": [
    "## Import Libraries"
   ]
  },
  {
   "cell_type": "code",
   "execution_count": 2,
   "id": "3882b953-254b-415a-b8d7-dbb2a334664f",
   "metadata": {},
   "outputs": [],
   "source": [
    "import pandas as pd\n",
    "import numpy as np\n",
    "import matplotlib.pyplot as plt\n",
    "from sklearn.preprocessing import StandardScaler\n",
    "from sklearn.decomposition import PCA\n",
    "from sklearn.cluster import KMeans\n"
   ]
  },
  {
   "cell_type": "markdown",
   "id": "4d83bb3d-7b16-49d2-aab1-cbecb055a305",
   "metadata": {},
   "source": [
    "## Using the numerical columns for the hospital (7 total; not variables related to position), conduct a PCA and obtain the eigenvalues."
   ]
  },
  {
   "cell_type": "code",
   "execution_count": null,
   "id": "9ba7bc20-9277-4161-bf76-c5659ae1a139",
   "metadata": {},
   "outputs": [],
   "source": []
  }
 ],
 "metadata": {
  "kernelspec": {
   "display_name": "Python 3 (ipykernel)",
   "language": "python",
   "name": "python3"
  },
  "language_info": {
   "codemirror_mode": {
    "name": "ipython",
    "version": 3
   },
   "file_extension": ".py",
   "mimetype": "text/x-python",
   "name": "python",
   "nbconvert_exporter": "python",
   "pygments_lexer": "ipython3",
   "version": "3.12.7"
  }
 },
 "nbformat": 4,
 "nbformat_minor": 5
}
